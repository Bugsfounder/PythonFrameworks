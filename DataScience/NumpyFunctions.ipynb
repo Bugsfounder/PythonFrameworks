{
 "cells": [
  {
   "cell_type": "markdown",
   "id": "05fdc8dc",
   "metadata": {},
   "source": [
    "## Basic Functions of Numpy Array"
   ]
  },
  {
   "cell_type": "code",
   "execution_count": 1,
   "id": "6b35fbf9",
   "metadata": {},
   "outputs": [],
   "source": [
    "import numpy as np"
   ]
  },
  {
   "cell_type": "code",
   "execution_count": 2,
   "id": "bb91037c",
   "metadata": {},
   "outputs": [
    {
     "name": "stdout",
     "output_type": "stream",
     "text": [
      "[[ 1  2  3 14  5  6  7]\n",
      " [ 3  5  6  3  6  4  3]]\n",
      "<class 'numpy.ndarray'>\n"
     ]
    }
   ],
   "source": [
    "# arr1 = np.array([1,2,3,4,5,6,7])\n",
    "arr1 = np.array([[1,2,3,14,5,6,7], [3,5,6,3,6,4,3]])\n",
    "# arr1 = np.array([[1,2,3,0.14,5,6,7], [3,5,6,3,6,4,3]])\n",
    "# arr1 = np.array([[1,2,3,4,5,6,7], [3,5,6,3,6,4,3]], dtype=\"int32\")\n",
    "print(arr1)\n",
    "print(type(arr1))"
   ]
  },
  {
   "cell_type": "code",
   "execution_count": 3,
   "id": "92e28318",
   "metadata": {},
   "outputs": [
    {
     "data": {
      "text/plain": [
       "(2, 7)"
      ]
     },
     "execution_count": 3,
     "metadata": {},
     "output_type": "execute_result"
    }
   ],
   "source": [
    "arr1.shape # (row, column)"
   ]
  },
  {
   "cell_type": "code",
   "execution_count": 4,
   "id": "ea51a8e4",
   "metadata": {},
   "outputs": [
    {
     "data": {
      "text/plain": [
       "dtype('int64')"
      ]
     },
     "execution_count": 4,
     "metadata": {},
     "output_type": "execute_result"
    }
   ],
   "source": [
    "arr1.dtype"
   ]
  },
  {
   "cell_type": "code",
   "execution_count": 5,
   "id": "b0edcb3e",
   "metadata": {},
   "outputs": [
    {
     "data": {
      "text/plain": [
       "array([[0., 0., 0., 0.],\n",
       "       [0., 0., 0., 0.]])"
      ]
     },
     "execution_count": 5,
     "metadata": {},
     "output_type": "execute_result"
    }
   ],
   "source": [
    "np.zeros((2,4,))"
   ]
  },
  {
   "cell_type": "code",
   "execution_count": 6,
   "id": "a4aa11e8",
   "metadata": {},
   "outputs": [
    {
     "data": {
      "text/plain": [
       "dtype('float64')"
      ]
     },
     "execution_count": 6,
     "metadata": {},
     "output_type": "execute_result"
    }
   ],
   "source": [
    "np.zeros(4).dtype"
   ]
  },
  {
   "cell_type": "code",
   "execution_count": 7,
   "id": "58730f2c",
   "metadata": {},
   "outputs": [
    {
     "data": {
      "text/plain": [
       "array([[0, 0, 0, 0],\n",
       "       [0, 0, 0, 0]], dtype=int32)"
      ]
     },
     "execution_count": 7,
     "metadata": {},
     "output_type": "execute_result"
    }
   ],
   "source": [
    "np.zeros((2,4,), dtype=\"int32\")"
   ]
  },
  {
   "cell_type": "code",
   "execution_count": 8,
   "id": "f23f0dec",
   "metadata": {},
   "outputs": [
    {
     "data": {
      "text/plain": [
       "dtype('int32')"
      ]
     },
     "execution_count": 8,
     "metadata": {},
     "output_type": "execute_result"
    }
   ],
   "source": [
    "np.zeros((2,4,), dtype=\"int32\").dtype"
   ]
  },
  {
   "cell_type": "code",
   "execution_count": 9,
   "id": "9420110d",
   "metadata": {},
   "outputs": [
    {
     "data": {
      "text/plain": [
       "array([[1., 1., 1., 1., 1., 1.],\n",
       "       [1., 1., 1., 1., 1., 1.],\n",
       "       [1., 1., 1., 1., 1., 1.]])"
      ]
     },
     "execution_count": 9,
     "metadata": {},
     "output_type": "execute_result"
    }
   ],
   "source": [
    "np.ones((3,6))"
   ]
  },
  {
   "cell_type": "code",
   "execution_count": 10,
   "id": "f89c3ba5",
   "metadata": {},
   "outputs": [
    {
     "data": {
      "text/plain": [
       "dtype('float64')"
      ]
     },
     "execution_count": 10,
     "metadata": {},
     "output_type": "execute_result"
    }
   ],
   "source": [
    "np.ones((3,6)).dtype"
   ]
  },
  {
   "cell_type": "code",
   "execution_count": 11,
   "id": "ec041dc8",
   "metadata": {},
   "outputs": [
    {
     "data": {
      "text/plain": [
       "dtype('int64')"
      ]
     },
     "execution_count": 11,
     "metadata": {},
     "output_type": "execute_result"
    }
   ],
   "source": [
    "np.ones((3,6), dtype=\"int64\").dtype"
   ]
  },
  {
   "cell_type": "code",
   "execution_count": 12,
   "id": "6ed0d8fa",
   "metadata": {
    "scrolled": true
   },
   "outputs": [
    {
     "data": {
      "text/plain": [
       "array([[9.19921774e-317, 0.00000000e+000, 9.82157975e+252,\n",
       "        8.89489936e+252, 6.01346954e-154, 6.01347002e-154],\n",
       "       [6.01347002e-154, 6.01347002e-154, 9.08366793e+223,\n",
       "        1.14177168e+243, 2.45126797e+198, 1.06083187e-153],\n",
       "       [2.35625393e+251, 6.01334511e-154, 6.01347002e-154,\n",
       "        6.01347002e-154, 6.01347002e-154, 1.88556770e+122],\n",
       "       [4.96820036e+180, 6.80600993e+212, 1.10317376e+217,\n",
       "        1.19490107e+190, 2.06642651e+161, 5.44760669e-109]])"
      ]
     },
     "execution_count": 12,
     "metadata": {},
     "output_type": "execute_result"
    }
   ],
   "source": [
    "np.empty((4,6))"
   ]
  },
  {
   "cell_type": "code",
   "execution_count": 13,
   "id": "ea9f4a91",
   "metadata": {},
   "outputs": [
    {
     "data": {
      "text/plain": [
       "array([ 1,  2,  3, 14,  5,  6,  7])"
      ]
     },
     "execution_count": 13,
     "metadata": {},
     "output_type": "execute_result"
    }
   ],
   "source": [
    "arr1[0]"
   ]
  },
  {
   "cell_type": "code",
   "execution_count": 14,
   "id": "2ec27f09",
   "metadata": {},
   "outputs": [
    {
     "data": {
      "text/plain": [
       "array([ 3, 10, 18, 42, 30, 24, 21])"
      ]
     },
     "execution_count": 14,
     "metadata": {},
     "output_type": "execute_result"
    }
   ],
   "source": [
    "arr1[0]*arr1[1]"
   ]
  },
  {
   "cell_type": "code",
   "execution_count": 15,
   "id": "6ed1ea94",
   "metadata": {},
   "outputs": [],
   "source": [
    "mulArr = np.array(arr1[0]*arr1[1])"
   ]
  },
  {
   "cell_type": "code",
   "execution_count": 16,
   "id": "e3c52000",
   "metadata": {},
   "outputs": [
    {
     "data": {
      "text/plain": [
       "array([ 3, 10, 18, 42, 30, 24, 21])"
      ]
     },
     "execution_count": 16,
     "metadata": {},
     "output_type": "execute_result"
    }
   ],
   "source": [
    "mulArr"
   ]
  },
  {
   "cell_type": "code",
   "execution_count": 17,
   "id": "20ee621d",
   "metadata": {},
   "outputs": [],
   "source": [
    "mulArr = np.array((arr1[0]*arr1[1]))"
   ]
  },
  {
   "cell_type": "code",
   "execution_count": 18,
   "id": "fa53eee6",
   "metadata": {},
   "outputs": [
    {
     "data": {
      "text/plain": [
       "array([ 3, 10, 18, 42, 30, 24, 21])"
      ]
     },
     "execution_count": 18,
     "metadata": {},
     "output_type": "execute_result"
    }
   ],
   "source": [
    "mulArr"
   ]
  },
  {
   "cell_type": "code",
   "execution_count": 19,
   "id": "5bf525e5",
   "metadata": {},
   "outputs": [
    {
     "data": {
      "text/plain": [
       "array([ 3,  6,  9, 42, 15, 18, 21])"
      ]
     },
     "execution_count": 19,
     "metadata": {},
     "output_type": "execute_result"
    }
   ],
   "source": [
    "arr1[0]*arr1[0][2]"
   ]
  },
  {
   "cell_type": "code",
   "execution_count": 20,
   "id": "cd505a15",
   "metadata": {},
   "outputs": [
    {
     "data": {
      "text/plain": [
       "array([[  1,   4,   9, 196,  25,  36,  49],\n",
       "       [  9,  25,  36,   9,  36,  16,   9]])"
      ]
     },
     "execution_count": 20,
     "metadata": {},
     "output_type": "execute_result"
    }
   ],
   "source": [
    "arr1*arr1"
   ]
  },
  {
   "cell_type": "code",
   "execution_count": 21,
   "id": "06358642",
   "metadata": {},
   "outputs": [
    {
     "data": {
      "text/plain": [
       "array([[ 2,  4,  6, 28, 10, 12, 14],\n",
       "       [ 6, 10, 12,  6, 12,  8,  6]])"
      ]
     },
     "execution_count": 21,
     "metadata": {},
     "output_type": "execute_result"
    }
   ],
   "source": [
    "arr1+arr1"
   ]
  },
  {
   "cell_type": "code",
   "execution_count": 22,
   "id": "e679d9e1",
   "metadata": {},
   "outputs": [
    {
     "data": {
      "text/plain": [
       "array([[0, 0, 0, 0, 0, 0, 0],\n",
       "       [0, 0, 0, 0, 0, 0, 0]])"
      ]
     },
     "execution_count": 22,
     "metadata": {},
     "output_type": "execute_result"
    }
   ],
   "source": [
    "arr1-arr1"
   ]
  },
  {
   "cell_type": "code",
   "execution_count": 23,
   "id": "304fd7fe",
   "metadata": {},
   "outputs": [
    {
     "data": {
      "text/plain": [
       "array([[1, 1, 1, 1, 1, 1, 1],\n",
       "       [1, 1, 1, 1, 1, 1, 1]])"
      ]
     },
     "execution_count": 23,
     "metadata": {},
     "output_type": "execute_result"
    }
   ],
   "source": [
    "arr1//arr1"
   ]
  },
  {
   "cell_type": "code",
   "execution_count": 24,
   "id": "c061d51b",
   "metadata": {},
   "outputs": [
    {
     "data": {
      "text/plain": [
       "array([[                1,                 4,                27,\n",
       "        11112006825558016,              3125,             46656,\n",
       "                   823543],\n",
       "       [               27,              3125,             46656,\n",
       "                       27,             46656,               256,\n",
       "                       27]])"
      ]
     },
     "execution_count": 24,
     "metadata": {},
     "output_type": "execute_result"
    }
   ],
   "source": [
    "arr1**arr1"
   ]
  },
  {
   "cell_type": "code",
   "execution_count": 25,
   "id": "9317e2c3",
   "metadata": {},
   "outputs": [
    {
     "data": {
      "text/plain": [
       "array([[ 2,  4,  6, 28, 10, 12, 14],\n",
       "       [ 6, 10, 12,  6, 12,  8,  6]])"
      ]
     },
     "execution_count": 25,
     "metadata": {},
     "output_type": "execute_result"
    }
   ],
   "source": [
    "arr1++arr1"
   ]
  },
  {
   "cell_type": "code",
   "execution_count": 26,
   "id": "5f46ca68",
   "metadata": {},
   "outputs": [
    {
     "data": {
      "text/plain": [
       "array([[ 2,  4,  6, 28, 10, 12, 14],\n",
       "       [ 6, 10, 12,  6, 12,  8,  6]])"
      ]
     },
     "execution_count": 26,
     "metadata": {},
     "output_type": "execute_result"
    }
   ],
   "source": [
    "arr1--arr1"
   ]
  },
  {
   "cell_type": "code",
   "execution_count": 27,
   "id": "40511ab9",
   "metadata": {},
   "outputs": [
    {
     "data": {
      "text/plain": [
       "array([[2.        , 1.        , 0.66666667, 0.14285714, 0.4       ,\n",
       "        0.33333333, 0.28571429],\n",
       "       [0.66666667, 0.4       , 0.33333333, 0.66666667, 0.33333333,\n",
       "        0.5       , 0.66666667]])"
      ]
     },
     "execution_count": 27,
     "metadata": {},
     "output_type": "execute_result"
    }
   ],
   "source": [
    "2/arr1"
   ]
  },
  {
   "cell_type": "markdown",
   "id": "eeb78aa0",
   "metadata": {},
   "source": [
    "# Slicing"
   ]
  },
  {
   "cell_type": "code",
   "execution_count": 28,
   "id": "9169543c",
   "metadata": {},
   "outputs": [
    {
     "data": {
      "text/plain": [
       "array([[ 1,  2,  3, 14,  5,  6,  7],\n",
       "       [ 3,  5,  6,  3,  6,  4,  3]])"
      ]
     },
     "execution_count": 28,
     "metadata": {},
     "output_type": "execute_result"
    }
   ],
   "source": [
    "arr1"
   ]
  },
  {
   "cell_type": "code",
   "execution_count": 29,
   "id": "81a19a13",
   "metadata": {},
   "outputs": [
    {
     "data": {
      "text/plain": [
       "array([[ 1,  2,  3, 14,  5,  6,  7],\n",
       "       [ 3,  5,  6,  3,  6,  4,  3]])"
      ]
     },
     "execution_count": 29,
     "metadata": {},
     "output_type": "execute_result"
    }
   ],
   "source": [
    "arr1[:] # get intire array"
   ]
  },
  {
   "cell_type": "code",
   "execution_count": 30,
   "id": "50a02d45",
   "metadata": {},
   "outputs": [
    {
     "data": {
      "text/plain": [
       "array([[ 1,  2,  3, 14,  5,  6,  7]])"
      ]
     },
     "execution_count": 30,
     "metadata": {},
     "output_type": "execute_result"
    }
   ],
   "source": [
    "arr1[:1] # get second array"
   ]
  },
  {
   "cell_type": "code",
   "execution_count": 31,
   "id": "33813750",
   "metadata": {},
   "outputs": [
    {
     "data": {
      "text/plain": [
       "array([ 3, 14,  5,  6,  7])"
      ]
     },
     "execution_count": 31,
     "metadata": {},
     "output_type": "execute_result"
    }
   ],
   "source": [
    "arr1[0][2:]"
   ]
  },
  {
   "cell_type": "code",
   "execution_count": 32,
   "id": "21ec28b1",
   "metadata": {},
   "outputs": [
    {
     "data": {
      "text/plain": [
       "array([3, 5, 6, 3])"
      ]
     },
     "execution_count": 32,
     "metadata": {},
     "output_type": "execute_result"
    }
   ],
   "source": [
    "arr1[1][0:4]"
   ]
  },
  {
   "cell_type": "code",
   "execution_count": 33,
   "id": "4839799f",
   "metadata": {},
   "outputs": [
    {
     "data": {
      "text/plain": [
       "array([ 1,  2,  3, 14])"
      ]
     },
     "execution_count": 33,
     "metadata": {},
     "output_type": "execute_result"
    }
   ],
   "source": [
    "arr1[0][:4]"
   ]
  },
  {
   "cell_type": "code",
   "execution_count": 34,
   "id": "8dd9249e",
   "metadata": {},
   "outputs": [
    {
     "data": {
      "text/plain": [
       "array([ 1,  2,  3, 14,  5,  6,  7])"
      ]
     },
     "execution_count": 34,
     "metadata": {},
     "output_type": "execute_result"
    }
   ],
   "source": [
    "arr1[0][:]"
   ]
  },
  {
   "cell_type": "code",
   "execution_count": 35,
   "id": "3a39ec79",
   "metadata": {},
   "outputs": [
    {
     "data": {
      "text/plain": [
       "array([14,  5,  6,  7])"
      ]
     },
     "execution_count": 35,
     "metadata": {},
     "output_type": "execute_result"
    }
   ],
   "source": [
    "arr1[0][3:]"
   ]
  },
  {
   "cell_type": "code",
   "execution_count": 36,
   "id": "db8e9d80",
   "metadata": {},
   "outputs": [],
   "source": [
    "arr = np.array([1,3,5,6,3,4,3,3])"
   ]
  },
  {
   "cell_type": "code",
   "execution_count": 37,
   "id": "1e860585",
   "metadata": {},
   "outputs": [
    {
     "data": {
      "text/plain": [
       "array([1, 3, 5])"
      ]
     },
     "execution_count": 37,
     "metadata": {},
     "output_type": "execute_result"
    }
   ],
   "source": [
    "arr[0:3]"
   ]
  },
  {
   "cell_type": "code",
   "execution_count": 38,
   "id": "21c27c86",
   "metadata": {},
   "outputs": [
    {
     "data": {
      "text/plain": [
       "array([6, 3, 4, 3, 3])"
      ]
     },
     "execution_count": 38,
     "metadata": {},
     "output_type": "execute_result"
    }
   ],
   "source": [
    "arr[3:]"
   ]
  },
  {
   "cell_type": "code",
   "execution_count": 39,
   "id": "94382350",
   "metadata": {},
   "outputs": [],
   "source": [
    "a = arr[2:4]"
   ]
  },
  {
   "cell_type": "code",
   "execution_count": 40,
   "id": "3de3e435",
   "metadata": {},
   "outputs": [],
   "source": [
    "a[0] = 1232"
   ]
  },
  {
   "cell_type": "code",
   "execution_count": 41,
   "id": "30a9b228",
   "metadata": {},
   "outputs": [
    {
     "data": {
      "text/plain": [
       "array([   1,    3, 1232,    6,    3,    4,    3,    3])"
      ]
     },
     "execution_count": 41,
     "metadata": {},
     "output_type": "execute_result"
    }
   ],
   "source": [
    "arr"
   ]
  },
  {
   "cell_type": "code",
   "execution_count": 42,
   "id": "685c5ba6",
   "metadata": {},
   "outputs": [],
   "source": [
    "a = arr[2:4].copy()"
   ]
  },
  {
   "cell_type": "code",
   "execution_count": 43,
   "id": "da1033b8",
   "metadata": {},
   "outputs": [],
   "source": [
    "a[0] = 41"
   ]
  },
  {
   "cell_type": "code",
   "execution_count": 44,
   "id": "f32e36f6",
   "metadata": {},
   "outputs": [
    {
     "data": {
      "text/plain": [
       "array([   1,    3, 1232,    6,    3,    4,    3,    3])"
      ]
     },
     "execution_count": 44,
     "metadata": {},
     "output_type": "execute_result"
    }
   ],
   "source": [
    "arr"
   ]
  },
  {
   "cell_type": "code",
   "execution_count": 45,
   "id": "380cc590",
   "metadata": {},
   "outputs": [
    {
     "data": {
      "text/plain": [
       "array([41,  6])"
      ]
     },
     "execution_count": 45,
     "metadata": {},
     "output_type": "execute_result"
    }
   ],
   "source": [
    "a"
   ]
  },
  {
   "cell_type": "code",
   "execution_count": null,
   "id": "76d355f7",
   "metadata": {},
   "outputs": [],
   "source": []
  }
 ],
 "metadata": {
  "kernelspec": {
   "display_name": "Python 3 (ipykernel)",
   "language": "python",
   "name": "python3"
  },
  "language_info": {
   "codemirror_mode": {
    "name": "ipython",
    "version": 3
   },
   "file_extension": ".py",
   "mimetype": "text/x-python",
   "name": "python",
   "nbconvert_exporter": "python",
   "pygments_lexer": "ipython3",
   "version": "3.8.10"
  }
 },
 "nbformat": 4,
 "nbformat_minor": 5
}
