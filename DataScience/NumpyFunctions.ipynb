{
 "cells": [
  {
   "cell_type": "markdown",
   "id": "05fdc8dc",
   "metadata": {},
   "source": [
    "## Basic Functions of Numpy Array"
   ]
  },
  {
   "cell_type": "code",
   "execution_count": 1,
   "id": "6b35fbf9",
   "metadata": {},
   "outputs": [],
   "source": [
    "import numpy as np"
   ]
  },
  {
   "cell_type": "code",
   "execution_count": 2,
   "id": "bb91037c",
   "metadata": {},
   "outputs": [
    {
     "name": "stdout",
     "output_type": "stream",
     "text": [
      "[[ 1  2  3 14  5  6  7]\n",
      " [ 3  5  6  3  6  4  3]]\n",
      "<class 'numpy.ndarray'>\n"
     ]
    }
   ],
   "source": [
    "# arr1 = np.array([1,2,3,4,5,6,7])\n",
    "arr1 = np.array([[1,2,3,14,5,6,7], [3,5,6,3,6,4,3]])\n",
    "# arr1 = np.array([[1,2,3,0.14,5,6,7], [3,5,6,3,6,4,3]])\n",
    "# arr1 = np.array([[1,2,3,4,5,6,7], [3,5,6,3,6,4,3]], dtype=\"int32\")\n",
    "print(arr1)\n",
    "print(type(arr1))"
   ]
  },
  {
   "cell_type": "code",
   "execution_count": 3,
   "id": "92e28318",
   "metadata": {},
   "outputs": [
    {
     "data": {
      "text/plain": [
       "(2, 7)"
      ]
     },
     "execution_count": 3,
     "metadata": {},
     "output_type": "execute_result"
    }
   ],
   "source": [
    "arr1.shape # (row, column)"
   ]
  },
  {
   "cell_type": "code",
   "execution_count": 4,
   "id": "ea51a8e4",
   "metadata": {},
   "outputs": [
    {
     "data": {
      "text/plain": [
       "dtype('int64')"
      ]
     },
     "execution_count": 4,
     "metadata": {},
     "output_type": "execute_result"
    }
   ],
   "source": [
    "arr1.dtype"
   ]
  },
  {
   "cell_type": "code",
   "execution_count": 5,
   "id": "b0edcb3e",
   "metadata": {},
   "outputs": [
    {
     "data": {
      "text/plain": [
       "array([[0., 0., 0., 0.],\n",
       "       [0., 0., 0., 0.]])"
      ]
     },
     "execution_count": 5,
     "metadata": {},
     "output_type": "execute_result"
    }
   ],
   "source": [
    "np.zeros((2,4,))"
   ]
  },
  {
   "cell_type": "code",
   "execution_count": 6,
   "id": "a4aa11e8",
   "metadata": {},
   "outputs": [
    {
     "data": {
      "text/plain": [
       "dtype('float64')"
      ]
     },
     "execution_count": 6,
     "metadata": {},
     "output_type": "execute_result"
    }
   ],
   "source": [
    "np.zeros(4).dtype"
   ]
  },
  {
   "cell_type": "code",
   "execution_count": 7,
   "id": "f5355876",
   "metadata": {},
   "outputs": [
    {
     "data": {
      "text/plain": [
       "array([[0, 0, 0, 0],\n",
       "       [0, 0, 0, 0]], dtype=int32)"
      ]
     },
     "execution_count": 7,
     "metadata": {},
     "output_type": "execute_result"
    }
   ],
   "source": [
    "np.zeros((2,4,), dtype=\"int32\")"
   ]
  },
  {
   "cell_type": "code",
   "execution_count": 8,
   "id": "f1a084d7",
   "metadata": {},
   "outputs": [
    {
     "data": {
      "text/plain": [
       "dtype('int32')"
      ]
     },
     "execution_count": 8,
     "metadata": {},
     "output_type": "execute_result"
    }
   ],
   "source": [
    "np.zeros((2,4,), dtype=\"int32\").dtype"
   ]
  },
  {
   "cell_type": "code",
   "execution_count": 9,
   "id": "cb7fea51",
   "metadata": {},
   "outputs": [
    {
     "data": {
      "text/plain": [
       "array([[1., 1., 1., 1., 1., 1.],\n",
       "       [1., 1., 1., 1., 1., 1.],\n",
       "       [1., 1., 1., 1., 1., 1.]])"
      ]
     },
     "execution_count": 9,
     "metadata": {},
     "output_type": "execute_result"
    }
   ],
   "source": [
    "np.ones((3,6))"
   ]
  },
  {
   "cell_type": "code",
   "execution_count": 10,
   "id": "bfbe7fd7",
   "metadata": {},
   "outputs": [
    {
     "data": {
      "text/plain": [
       "dtype('float64')"
      ]
     },
     "execution_count": 10,
     "metadata": {},
     "output_type": "execute_result"
    }
   ],
   "source": [
    "np.ones((3,6)).dtype"
   ]
  },
  {
   "cell_type": "code",
   "execution_count": 11,
   "id": "2be242e4",
   "metadata": {},
   "outputs": [
    {
     "data": {
      "text/plain": [
       "dtype('int64')"
      ]
     },
     "execution_count": 11,
     "metadata": {},
     "output_type": "execute_result"
    }
   ],
   "source": [
    "np.ones((3,6), dtype=\"int64\").dtype"
   ]
  },
  {
   "cell_type": "code",
   "execution_count": 12,
   "id": "752aa810",
   "metadata": {
    "scrolled": true
   },
   "outputs": [
    {
     "data": {
      "text/plain": [
       "array([[9.19921774e-317, 0.00000000e+000, 9.82157975e+252,\n",
       "        8.89489936e+252, 6.01346954e-154, 6.01347002e-154],\n",
       "       [6.01347002e-154, 6.01347002e-154, 9.08366793e+223,\n",
       "        1.14177168e+243, 2.45126797e+198, 1.06083187e-153],\n",
       "       [2.35625393e+251, 6.01334511e-154, 6.01347002e-154,\n",
       "        6.01347002e-154, 6.01347002e-154, 1.88556770e+122],\n",
       "       [4.96820036e+180, 6.80600993e+212, 1.10317376e+217,\n",
       "        1.19490107e+190, 2.06642651e+161, 5.44760669e-109]])"
      ]
     },
     "execution_count": 12,
     "metadata": {},
     "output_type": "execute_result"
    }
   ],
   "source": [
    "np.empty((4,6))"
   ]
  },
  {
   "cell_type": "code",
   "execution_count": 13,
   "id": "80c74864",
   "metadata": {},
   "outputs": [
    {
     "data": {
      "text/plain": [
       "array([ 1,  2,  3, 14,  5,  6,  7])"
      ]
     },
     "execution_count": 13,
     "metadata": {},
     "output_type": "execute_result"
    }
   ],
   "source": [
    "arr1[0]"
   ]
  },
  {
   "cell_type": "code",
   "execution_count": 14,
   "id": "4d5ad17b",
   "metadata": {},
   "outputs": [
    {
     "data": {
      "text/plain": [
       "array([ 3, 10, 18, 42, 30, 24, 21])"
      ]
     },
     "execution_count": 14,
     "metadata": {},
     "output_type": "execute_result"
    }
   ],
   "source": [
    "arr1[0]*arr1[1]"
   ]
  },
  {
   "cell_type": "code",
   "execution_count": 15,
   "id": "77032080",
   "metadata": {},
   "outputs": [],
   "source": [
    "mulArr = np.array(arr1[0]*arr1[1])"
   ]
  },
  {
   "cell_type": "code",
   "execution_count": 16,
   "id": "bb4205c9",
   "metadata": {},
   "outputs": [
    {
     "data": {
      "text/plain": [
       "array([ 3, 10, 18, 42, 30, 24, 21])"
      ]
     },
     "execution_count": 16,
     "metadata": {},
     "output_type": "execute_result"
    }
   ],
   "source": [
    "mulArr"
   ]
  },
  {
   "cell_type": "code",
   "execution_count": 17,
   "id": "95d1c250",
   "metadata": {},
   "outputs": [],
   "source": [
    "mulArr = np.array((arr1[0]*arr1[1]))"
   ]
  },
  {
   "cell_type": "code",
   "execution_count": 18,
   "id": "701b82a0",
   "metadata": {},
   "outputs": [
    {
     "data": {
      "text/plain": [
       "array([ 3, 10, 18, 42, 30, 24, 21])"
      ]
     },
     "execution_count": 18,
     "metadata": {},
     "output_type": "execute_result"
    }
   ],
   "source": [
    "mulArr"
   ]
  },
  {
   "cell_type": "code",
   "execution_count": 19,
   "id": "e2e2d914",
   "metadata": {},
   "outputs": [
    {
     "data": {
      "text/plain": [
       "array([ 3,  6,  9, 42, 15, 18, 21])"
      ]
     },
     "execution_count": 19,
     "metadata": {},
     "output_type": "execute_result"
    }
   ],
   "source": [
    "arr1[0]*arr1[0][2]"
   ]
  },
  {
   "cell_type": "code",
   "execution_count": 20,
   "id": "394e200e",
   "metadata": {},
   "outputs": [
    {
     "data": {
      "text/plain": [
       "array([[  1,   4,   9, 196,  25,  36,  49],\n",
       "       [  9,  25,  36,   9,  36,  16,   9]])"
      ]
     },
     "execution_count": 20,
     "metadata": {},
     "output_type": "execute_result"
    }
   ],
   "source": [
    "arr1*arr1"
   ]
  },
  {
   "cell_type": "code",
   "execution_count": 21,
   "id": "fb0d4d7b",
   "metadata": {},
   "outputs": [
    {
     "data": {
      "text/plain": [
       "array([[ 2,  4,  6, 28, 10, 12, 14],\n",
       "       [ 6, 10, 12,  6, 12,  8,  6]])"
      ]
     },
     "execution_count": 21,
     "metadata": {},
     "output_type": "execute_result"
    }
   ],
   "source": [
    "arr1+arr1"
   ]
  },
  {
   "cell_type": "code",
   "execution_count": 22,
   "id": "628e1c8e",
   "metadata": {},
   "outputs": [
    {
     "data": {
      "text/plain": [
       "array([[0, 0, 0, 0, 0, 0, 0],\n",
       "       [0, 0, 0, 0, 0, 0, 0]])"
      ]
     },
     "execution_count": 22,
     "metadata": {},
     "output_type": "execute_result"
    }
   ],
   "source": [
    "arr1-arr1"
   ]
  },
  {
   "cell_type": "code",
   "execution_count": 23,
   "id": "8605430c",
   "metadata": {},
   "outputs": [
    {
     "data": {
      "text/plain": [
       "array([[1, 1, 1, 1, 1, 1, 1],\n",
       "       [1, 1, 1, 1, 1, 1, 1]])"
      ]
     },
     "execution_count": 23,
     "metadata": {},
     "output_type": "execute_result"
    }
   ],
   "source": [
    "arr1//arr1"
   ]
  },
  {
   "cell_type": "code",
   "execution_count": 24,
   "id": "f57dc6a7",
   "metadata": {},
   "outputs": [
    {
     "data": {
      "text/plain": [
       "array([[                1,                 4,                27,\n",
       "        11112006825558016,              3125,             46656,\n",
       "                   823543],\n",
       "       [               27,              3125,             46656,\n",
       "                       27,             46656,               256,\n",
       "                       27]])"
      ]
     },
     "execution_count": 24,
     "metadata": {},
     "output_type": "execute_result"
    }
   ],
   "source": [
    "arr1**arr1"
   ]
  },
  {
   "cell_type": "code",
   "execution_count": 25,
   "id": "93590615",
   "metadata": {},
   "outputs": [
    {
     "data": {
      "text/plain": [
       "array([[ 2,  4,  6, 28, 10, 12, 14],\n",
       "       [ 6, 10, 12,  6, 12,  8,  6]])"
      ]
     },
     "execution_count": 25,
     "metadata": {},
     "output_type": "execute_result"
    }
   ],
   "source": [
    "arr1++arr1"
   ]
  },
  {
   "cell_type": "code",
   "execution_count": 26,
   "id": "5633bbb4",
   "metadata": {},
   "outputs": [
    {
     "data": {
      "text/plain": [
       "array([[ 2,  4,  6, 28, 10, 12, 14],\n",
       "       [ 6, 10, 12,  6, 12,  8,  6]])"
      ]
     },
     "execution_count": 26,
     "metadata": {},
     "output_type": "execute_result"
    }
   ],
   "source": [
    "arr1--arr1"
   ]
  },
  {
   "cell_type": "code",
   "execution_count": 27,
   "id": "f2afad93",
   "metadata": {},
   "outputs": [
    {
     "data": {
      "text/plain": [
       "array([[2.        , 1.        , 0.66666667, 0.14285714, 0.4       ,\n",
       "        0.33333333, 0.28571429],\n",
       "       [0.66666667, 0.4       , 0.33333333, 0.66666667, 0.33333333,\n",
       "        0.5       , 0.66666667]])"
      ]
     },
     "execution_count": 27,
     "metadata": {},
     "output_type": "execute_result"
    }
   ],
   "source": [
    "2/arr1"
   ]
  },
  {
   "cell_type": "markdown",
   "id": "7b61adf8",
   "metadata": {},
   "source": [
    "# Slicing"
   ]
  },
  {
   "cell_type": "code",
   "execution_count": 28,
   "id": "80d4b692",
   "metadata": {},
   "outputs": [
    {
     "data": {
      "text/plain": [
       "array([[ 1,  2,  3, 14,  5,  6,  7],\n",
       "       [ 3,  5,  6,  3,  6,  4,  3]])"
      ]
     },
     "execution_count": 28,
     "metadata": {},
     "output_type": "execute_result"
    }
   ],
   "source": [
    "arr1"
   ]
  },
  {
   "cell_type": "code",
   "execution_count": 29,
   "id": "ee43117b",
   "metadata": {},
   "outputs": [
    {
     "data": {
      "text/plain": [
       "array([[ 1,  2,  3, 14,  5,  6,  7],\n",
       "       [ 3,  5,  6,  3,  6,  4,  3]])"
      ]
     },
     "execution_count": 29,
     "metadata": {},
     "output_type": "execute_result"
    }
   ],
   "source": [
    "arr1[:] # get intire array"
   ]
  },
  {
   "cell_type": "code",
   "execution_count": 30,
   "id": "d725e4bf",
   "metadata": {},
   "outputs": [
    {
     "data": {
      "text/plain": [
       "array([[ 1,  2,  3, 14,  5,  6,  7]])"
      ]
     },
     "execution_count": 30,
     "metadata": {},
     "output_type": "execute_result"
    }
   ],
   "source": [
    "arr1[:1] # get second array"
   ]
  },
  {
   "cell_type": "code",
   "execution_count": 31,
   "id": "9a38df97",
   "metadata": {},
   "outputs": [
    {
     "data": {
      "text/plain": [
       "array([ 3, 14,  5,  6,  7])"
      ]
     },
     "execution_count": 31,
     "metadata": {},
     "output_type": "execute_result"
    }
   ],
   "source": [
    "arr1[0][2:]"
   ]
  },
  {
   "cell_type": "code",
   "execution_count": 32,
   "id": "d27679bf",
   "metadata": {},
   "outputs": [
    {
     "data": {
      "text/plain": [
       "array([3, 5, 6, 3])"
      ]
     },
     "execution_count": 32,
     "metadata": {},
     "output_type": "execute_result"
    }
   ],
   "source": [
    "arr1[1][0:4]"
   ]
  },
  {
   "cell_type": "code",
   "execution_count": 33,
   "id": "54c17d94",
   "metadata": {},
   "outputs": [
    {
     "data": {
      "text/plain": [
       "array([ 1,  2,  3, 14])"
      ]
     },
     "execution_count": 33,
     "metadata": {},
     "output_type": "execute_result"
    }
   ],
   "source": [
    "arr1[0][:4]"
   ]
  },
  {
   "cell_type": "code",
   "execution_count": 34,
   "id": "6dcebc1c",
   "metadata": {},
   "outputs": [
    {
     "data": {
      "text/plain": [
       "array([ 1,  2,  3, 14,  5,  6,  7])"
      ]
     },
     "execution_count": 34,
     "metadata": {},
     "output_type": "execute_result"
    }
   ],
   "source": [
    "arr1[0][:]"
   ]
  },
  {
   "cell_type": "code",
   "execution_count": 35,
   "id": "d5cacc36",
   "metadata": {},
   "outputs": [
    {
     "data": {
      "text/plain": [
       "array([14,  5,  6,  7])"
      ]
     },
     "execution_count": 35,
     "metadata": {},
     "output_type": "execute_result"
    }
   ],
   "source": [
    "arr1[0][3:]"
   ]
  },
  {
   "cell_type": "code",
   "execution_count": 36,
   "id": "3230f16c",
   "metadata": {},
   "outputs": [],
   "source": [
    "arr = np.array([1,3,5,6,3,4,3,3])"
   ]
  },
  {
   "cell_type": "code",
   "execution_count": 37,
   "id": "8747264e",
   "metadata": {},
   "outputs": [
    {
     "data": {
      "text/plain": [
       "array([1, 3, 5])"
      ]
     },
     "execution_count": 37,
     "metadata": {},
     "output_type": "execute_result"
    }
   ],
   "source": [
    "arr[0:3]"
   ]
  },
  {
   "cell_type": "code",
   "execution_count": 38,
   "id": "15c30748",
   "metadata": {},
   "outputs": [
    {
     "data": {
      "text/plain": [
       "array([6, 3, 4, 3, 3])"
      ]
     },
     "execution_count": 38,
     "metadata": {},
     "output_type": "execute_result"
    }
   ],
   "source": [
    "arr[3:]"
   ]
  },
  {
   "cell_type": "code",
   "execution_count": 39,
   "id": "76a0387c",
   "metadata": {},
   "outputs": [],
   "source": [
    "a = arr[2:4]"
   ]
  },
  {
   "cell_type": "code",
   "execution_count": 40,
   "id": "2488e092",
   "metadata": {},
   "outputs": [],
   "source": [
    "a[0] = 1232"
   ]
  },
  {
   "cell_type": "code",
   "execution_count": 41,
   "id": "7dfad9db",
   "metadata": {},
   "outputs": [
    {
     "data": {
      "text/plain": [
       "array([   1,    3, 1232,    6,    3,    4,    3,    3])"
      ]
     },
     "execution_count": 41,
     "metadata": {},
     "output_type": "execute_result"
    }
   ],
   "source": [
    "arr"
   ]
  },
  {
   "cell_type": "code",
   "execution_count": 42,
   "id": "ccb39af1",
   "metadata": {},
   "outputs": [],
   "source": [
    "a = arr[2:4].copy()"
   ]
  },
  {
   "cell_type": "code",
   "execution_count": 43,
   "id": "ff39786e",
   "metadata": {},
   "outputs": [],
   "source": [
    "a[0] = 41"
   ]
  },
  {
   "cell_type": "code",
   "execution_count": 44,
   "id": "d95cd09b",
   "metadata": {},
   "outputs": [
    {
     "data": {
      "text/plain": [
       "array([   1,    3, 1232,    6,    3,    4,    3,    3])"
      ]
     },
     "execution_count": 44,
     "metadata": {},
     "output_type": "execute_result"
    }
   ],
   "source": [
    "arr"
   ]
  },
  {
   "cell_type": "code",
   "execution_count": 45,
   "id": "dd41c324",
   "metadata": {},
   "outputs": [
    {
     "data": {
      "text/plain": [
       "array([41,  6])"
      ]
     },
     "execution_count": 45,
     "metadata": {},
     "output_type": "execute_result"
    }
   ],
   "source": [
    "a"
   ]
  },
  {
   "cell_type": "code",
   "execution_count": 48,
   "id": "79b79ff1",
   "metadata": {},
   "outputs": [
    {
     "data": {
      "text/plain": [
       "array([ 1,  2,  3, 14,  5,  6,  7])"
      ]
     },
     "execution_count": 48,
     "metadata": {},
     "output_type": "execute_result"
    }
   ],
   "source": [
    "arr1[0]"
   ]
  },
  {
   "cell_type": "code",
   "execution_count": 49,
   "id": "9846ae44",
   "metadata": {},
   "outputs": [
    {
     "data": {
      "text/plain": [
       "5"
      ]
     },
     "execution_count": 49,
     "metadata": {},
     "output_type": "execute_result"
    }
   ],
   "source": [
    "arr1[0,4]"
   ]
  },
  {
   "cell_type": "code",
   "execution_count": null,
   "id": "61005db0",
   "metadata": {},
   "outputs": [],
   "source": []
  }
 ],
 "metadata": {
  "kernelspec": {
   "display_name": "Python 3 (ipykernel)",
   "language": "python",
   "name": "python3"
  },
  "language_info": {
   "codemirror_mode": {
    "name": "ipython",
    "version": 3
   },
   "file_extension": ".py",
   "mimetype": "text/x-python",
   "name": "python",
   "nbconvert_exporter": "python",
   "pygments_lexer": "ipython3",
   "version": "3.8.10"
  }
 },
 "nbformat": 4,
 "nbformat_minor": 5
}
