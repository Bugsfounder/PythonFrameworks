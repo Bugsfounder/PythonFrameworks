{
 "cells": [
  {
   "cell_type": "code",
   "execution_count": 2,
   "id": "c5cd99df",
   "metadata": {},
   "outputs": [],
   "source": [
    "import numpy as np"
   ]
  },
  {
   "cell_type": "code",
   "execution_count": 9,
   "id": "fbd85cc4",
   "metadata": {},
   "outputs": [],
   "source": [
    "arr = np.arange(100000)"
   ]
  },
  {
   "cell_type": "code",
   "execution_count": 10,
   "id": "97f8a6c0",
   "metadata": {},
   "outputs": [
    {
     "data": {
      "text/plain": [
       "array([    0,     1,     2, ..., 99997, 99998, 99999])"
      ]
     },
     "execution_count": 10,
     "metadata": {},
     "output_type": "execute_result"
    }
   ],
   "source": [
    "arr"
   ]
  },
  {
   "cell_type": "code",
   "execution_count": 13,
   "id": "1ba1ef70",
   "metadata": {},
   "outputs": [],
   "source": [
    "del list\n",
    "pyList = list(range(100000))"
   ]
  },
  {
   "cell_type": "code",
   "execution_count": 20,
   "id": "4ed6f58a",
   "metadata": {},
   "outputs": [
    {
     "name": "stdout",
     "output_type": "stream",
     "text": [
      "CPU times: user 106 ms, sys: 23.8 ms, total: 130 ms\n",
      "Wall time: 128 ms\n"
     ]
    }
   ],
   "source": [
    "%time for _ in range(10):[item*3 for item in pyList]"
   ]
  },
  {
   "cell_type": "code",
   "execution_count": 43,
   "id": "916a6c21",
   "metadata": {},
   "outputs": [],
   "source": [
    "# ime for _ in range(10): [item*3 for item in arr]"
   ]
  },
  {
   "cell_type": "code",
   "execution_count": 44,
   "id": "15bcea1e",
   "metadata": {},
   "outputs": [
    {
     "name": "stdout",
     "output_type": "stream",
     "text": [
      "CPU times: user 4.34 ms, sys: 336 µs, total: 4.67 ms\n",
      "Wall time: 3.19 ms\n"
     ]
    }
   ],
   "source": [
    "%time for _ in range(10): arr = arr*3"
   ]
  },
  {
   "cell_type": "markdown",
   "id": "90ede1da",
   "metadata": {},
   "source": [
    "## Creating Basic numpy Array"
   ]
  },
  {
   "cell_type": "code",
   "execution_count": 45,
   "id": "abc86802",
   "metadata": {},
   "outputs": [],
   "source": [
    "arr = np.array([12,45,2,3,2,4,8])"
   ]
  },
  {
   "cell_type": "code",
   "execution_count": 46,
   "id": "195651dd",
   "metadata": {},
   "outputs": [
    {
     "data": {
      "text/plain": [
       "array([12, 45,  2,  3,  2,  4,  8])"
      ]
     },
     "execution_count": 46,
     "metadata": {},
     "output_type": "execute_result"
    }
   ],
   "source": [
    "arr"
   ]
  },
  {
   "cell_type": "code",
   "execution_count": null,
   "id": "d3bf26a8",
   "metadata": {},
   "outputs": [],
   "source": []
  }
 ],
 "metadata": {
  "kernelspec": {
   "display_name": "Python 3 (ipykernel)",
   "language": "python",
   "name": "python3"
  },
  "language_info": {
   "codemirror_mode": {
    "name": "ipython",
    "version": 3
   },
   "file_extension": ".py",
   "mimetype": "text/x-python",
   "name": "python",
   "nbconvert_exporter": "python",
   "pygments_lexer": "ipython3",
   "version": "3.8.10"
  }
 },
 "nbformat": 4,
 "nbformat_minor": 5
}
